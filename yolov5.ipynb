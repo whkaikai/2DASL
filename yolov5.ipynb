{
  "nbformat": 4,
  "nbformat_minor": 0,
  "metadata": {
    "colab": {
      "name": "yolov5.ipynb",
      "provenance": [],
      "authorship_tag": "ABX9TyORuWnp4ETNeMgLWpPd69JZ",
      "include_colab_link": true
    },
    "kernelspec": {
      "name": "python3",
      "display_name": "Python 3"
    },
    "language_info": {
      "name": "python"
    }
  },
  "cells": [
    {
      "cell_type": "markdown",
      "metadata": {
        "id": "view-in-github",
        "colab_type": "text"
      },
      "source": [
        "<a href=\"https://colab.research.google.com/github/whkaikai/2DASL/blob/master/yolov5.ipynb\" target=\"_parent\"><img src=\"https://colab.research.google.com/assets/colab-badge.svg\" alt=\"Open In Colab\"/></a>"
      ]
    },
    {
      "cell_type": "code",
      "execution_count": 3,
      "metadata": {
        "id": "nZREK0JZOcQF"
      },
      "outputs": [],
      "source": [
        "import cv2\n",
        "import argparse\n",
        "import numpy as np"
      ]
    },
    {
      "cell_type": "code",
      "source": [
        "class yolov5():\n",
        "    def __init__(self, yolo_type, confThreshold=0.5, nmsThreshold=0.5, objThreshold=0.5):\n",
        "        with open('coco.names', 'rt') as f:\n",
        "            self.classes = f.read().rstrip('\\n').split('\\n')   ###这个是在coco数据集上训练的模型做opencv部署的，如果你在自己的数据集上训练出的模型做opencv部署，那么需要修改self.classes\n",
        "        self.colors = [np.random.randint(0, 255, size=3).tolist() for _ in range(len(self.classes))]\n",
        "        num_classes = len(self.classes)\n",
        "        anchors = [[10, 13, 16, 30, 33, 23], [30, 61, 62, 45, 59, 119], [116, 90, 156, 198, 373, 326]]\n",
        "        self.nl = len(anchors)\n",
        "        self.na = len(anchors[0]) // 2\n",
        "        self.no = num_classes + 5\n",
        "        self.grid = [np.zeros(1)] * self.nl\n",
        "        self.stride = np.array([8., 16., 32.])\n",
        "        self.anchor_grid = np.asarray(anchors, dtype=np.float32).reshape(self.nl, -1, 2)\n",
        "        self.inpWidth = 640\n",
        "        self.inpHeight = 640\n",
        "        self.net = cv2.dnn.readNet(yolo_type + '.onnx')\n",
        "        self.confThreshold = confThreshold\n",
        "        self.nmsThreshold = nmsThreshold\n",
        "        self.objThreshold = objThreshold\n",
        "\n",
        "    def _make_grid(self, nx=20, ny=20):\n",
        "        xv, yv = np.meshgrid(np.arange(ny), np.arange(nx))\n",
        "        return np.stack((xv, yv), 2).reshape((-1, 2)).astype(np.float32)\n",
        "\n",
        "    def postprocess(self, frame, outs):\n",
        "        frameHeight = frame.shape[0]\n",
        "        frameWidth = frame.shape[1]\n",
        "        ratioh, ratiow = frameHeight / self.inpHeight, frameWidth / self.inpWidth\n",
        "        # Scan through all the bounding boxes output from the network and keep only the\n",
        "        # ones with high confidence scores. Assign the box's class label as the class with the highest score.\n",
        "        classIds = []\n",
        "        confidences = []\n",
        "        boxes = []\n",
        "        for detection in outs:\n",
        "            scores = detection[5:]\n",
        "            classId = np.argmax(scores)\n",
        "            confidence = scores[classId]\n",
        "            if confidence > self.confThreshold and detection[4] > self.objThreshold:\n",
        "                center_x = int(detection[0] * ratiow)\n",
        "                center_y = int(detection[1] * ratioh)\n",
        "                width = int(detection[2] * ratiow)\n",
        "                height = int(detection[3] * ratioh)\n",
        "                left = int(center_x - width / 2)\n",
        "                top = int(center_y - height / 2)\n",
        "                classIds.append(classId)\n",
        "                confidences.append(float(confidence))\n",
        "                boxes.append([left, top, width, height])\n",
        "\n",
        "        # Perform non maximum suppression to eliminate redundant overlapping boxes with\n",
        "        # lower confidences.\n",
        "        indices = cv2.dnn.NMSBoxes(boxes, confidences, self.confThreshold, self.nmsThreshold)\n",
        "        for i in indices:\n",
        "            i = i[0]\n",
        "            box = boxes[i]\n",
        "            left = box[0]\n",
        "            top = box[1]\n",
        "            width = box[2]\n",
        "            height = box[3]\n",
        "            frame = self.drawPred(frame, classIds[i], confidences[i], left, top, left + width, top + height)\n",
        "        return frame\n",
        "    def drawPred(self, frame, classId, conf, left, top, right, bottom):\n",
        "        # Draw a bounding box.\n",
        "        cv2.rectangle(frame, (left, top), (right, bottom), (0, 0, 255), thickness=4)\n",
        "\n",
        "        label = '%.2f' % conf\n",
        "        label = '%s:%s' % (self.classes[classId], label)\n",
        "\n",
        "        # Display the label at the top of the bounding box\n",
        "        labelSize, baseLine = cv2.getTextSize(label, cv2.FONT_HERSHEY_SIMPLEX, 0.5, 1)\n",
        "        top = max(top, labelSize[1])\n",
        "        # cv.rectangle(frame, (left, top - round(1.5 * labelSize[1])), (left + round(1.5 * labelSize[0]), top + baseLine), (255,255,255), cv.FILLED)\n",
        "        cv2.putText(frame, label, (left, top - 10), cv2.FONT_HERSHEY_SIMPLEX, 1, (0, 255, 0), thickness=2)\n",
        "        return frame\n",
        "    def detect(self, srcimg):\n",
        "        blob = cv2.dnn.blobFromImage(srcimg, 1 / 255.0, (self.inpWidth, self.inpHeight), [0, 0, 0], swapRB=True, crop=False)\n",
        "        # Sets the input to the network\n",
        "        self.net.setInput(blob)\n",
        "\n",
        "        # Runs the forward pass to get output of the output layers\n",
        "        outs = self.net.forward(self.net.getUnconnectedOutLayersNames())[0]\n",
        "\n",
        "        # inference output\n",
        "        outs = 1 / (1 + np.exp(-outs))   ###sigmoid\n",
        "        row_ind = 0\n",
        "        for i in range(self.nl):\n",
        "            h, w = int(self.inpHeight/self.stride[i]), int(self.inpWidth/self.stride[i])\n",
        "            length = int(self.na * h * w)\n",
        "            if self.grid[i].shape[2:4] != (h,w):\n",
        "                self.grid[i] = self._make_grid(w, h)\n",
        "\n",
        "            outs[row_ind:row_ind+length, 0:2] = (outs[row_ind:row_ind+length, 0:2] * 2. - 0.5 + np.tile(self.grid[i],(self.na, 1))) * int(self.stride[i])\n",
        "            outs[row_ind:row_ind+length, 2:4] = (outs[row_ind:row_ind+length, 2:4] * 2) ** 2 * np.repeat(self.anchor_grid[i],h*w, axis=0)\n",
        "            row_ind += length\n",
        "        return outs\n",
        "\n",
        "if __name__ == \"__main__\":\n",
        "    parser = argparse.ArgumentParser()\n",
        "    parser.add_argument(\"--imgpath\", type=str, default='bus.jpg', help=\"image path\")\n",
        "    parser.add_argument('--net_type', default='yolov5s', choices=['yolov5s', 'yolov5l', 'yolov5m', 'yolov5x'])\n",
        "    parser.add_argument('--confThreshold', default=0.5, type=float, help='class confidence')\n",
        "    parser.add_argument('--nmsThreshold', default=0.5, type=float, help='nms iou thresh')\n",
        "    parser.add_argument('--objThreshold', default=0.5, type=float, help='object confidence')\n",
        "    args = parser.parse_args()\n",
        "\n",
        "    yolonet = yolov5(args.net_type, confThreshold=args.confThreshold, nmsThreshold=args.nmsThreshold, objThreshold=args.objThreshold)\n",
        "    srcimg = cv2.imread(args.imgpath)\n",
        "    dets = yolonet.detect(srcimg)\n",
        "    srcimg = yolonet.postprocess(srcimg, dets)\n",
        "\n",
        "    winName = 'Deep learning object detection in OpenCV'\n",
        "    cv2.namedWindow(winName, 0)\n",
        "    cv2.imshow(winName, srcimg)\n",
        "    cv2.waitKey(0)\n",
        "    cv2.destroyAllWindows()\n"
      ],
      "metadata": {
        "colab": {
          "base_uri": "https://localhost:8080/",
          "height": 277
        },
        "id": "8eDX4BKZOhYP",
        "outputId": "68768386-179e-4e63-99a8-b2b5937c2bad"
      },
      "execution_count": 10,
      "outputs": [
        {
          "output_type": "stream",
          "name": "stderr",
          "text": [
            "usage: ipykernel_launcher.py [-h] [--imgpath IMGPATH]\n",
            "                             [--net_type {yolov5s,yolov5l,yolov5m,yolov5x}]\n",
            "                             [--confThreshold CONFTHRESHOLD]\n",
            "                             [--nmsThreshold NMSTHRESHOLD]\n",
            "                             [--objThreshold OBJTHRESHOLD]\n",
            "ipykernel_launcher.py: error: unrecognized arguments: -f /root/.local/share/jupyter/runtime/kernel-3d7fbcef-57bb-41f8-bb8e-3676594ca851.json\n"
          ]
        },
        {
          "output_type": "error",
          "ename": "SystemExit",
          "evalue": "ignored",
          "traceback": [
            "An exception has occurred, use %tb to see the full traceback.\n",
            "\u001b[0;31mSystemExit\u001b[0m\u001b[0;31m:\u001b[0m 2\n"
          ]
        },
        {
          "output_type": "stream",
          "name": "stderr",
          "text": [
            "/usr/local/lib/python3.7/dist-packages/IPython/core/interactiveshell.py:2890: UserWarning: To exit: use 'exit', 'quit', or Ctrl-D.\n",
            "  warn(\"To exit: use 'exit', 'quit', or Ctrl-D.\", stacklevel=1)\n"
          ]
        }
      ]
    },
    {
      "cell_type": "code",
      "source": [
        ""
      ],
      "metadata": {
        "colab": {
          "base_uri": "https://localhost:8080/",
          "height": 277
        },
        "id": "Si2kGEwCOkra",
        "outputId": "c4d9ebfc-7b35-4bf0-f8d1-f6a2555f1d13"
      },
      "execution_count": 9,
      "outputs": [
        {
          "output_type": "stream",
          "name": "stderr",
          "text": [
            "usage: ipykernel_launcher.py [-h] [--imgpath IMGPATH]\n",
            "                             [--net_type {yolov5s,yolov5l,yolov5m,yolov5x}]\n",
            "                             [--confThreshold CONFTHRESHOLD]\n",
            "                             [--nmsThreshold NMSTHRESHOLD]\n",
            "                             [--objThreshold OBJTHRESHOLD]\n",
            "ipykernel_launcher.py: error: unrecognized arguments: -f /root/.local/share/jupyter/runtime/kernel-3d7fbcef-57bb-41f8-bb8e-3676594ca851.json\n"
          ]
        },
        {
          "output_type": "error",
          "ename": "SystemExit",
          "evalue": "ignored",
          "traceback": [
            "An exception has occurred, use %tb to see the full traceback.\n",
            "\u001b[0;31mSystemExit\u001b[0m\u001b[0;31m:\u001b[0m 2\n"
          ]
        },
        {
          "output_type": "stream",
          "name": "stderr",
          "text": [
            "/usr/local/lib/python3.7/dist-packages/IPython/core/interactiveshell.py:2890: UserWarning: To exit: use 'exit', 'quit', or Ctrl-D.\n",
            "  warn(\"To exit: use 'exit', 'quit', or Ctrl-D.\", stacklevel=1)\n"
          ]
        }
      ]
    }
  ]
}